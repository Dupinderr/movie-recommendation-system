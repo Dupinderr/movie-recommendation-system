{
 "cells": [
  {
   "cell_type": "code",
   "execution_count": 5,
   "id": "dcff89f3-132e-482c-aac7-819761aa97cd",
   "metadata": {},
   "outputs": [
    {
     "name": "stdout",
     "output_type": "stream",
     "text": [
      "                                                title  \\\n",
      "0                            The Shawshank Redemption   \n",
      "1                                       The Godfather   \n",
      "2                                     The Dark Knight   \n",
      "3                                        Pulp Fiction   \n",
      "4                                        Forrest Gump   \n",
      "5                                           Inception   \n",
      "6                                          Fight Club   \n",
      "7                                          The Matrix   \n",
      "8                                        Interstellar   \n",
      "9                                           Gladiator   \n",
      "10                                            Titanic   \n",
      "11  The Lord of the Rings: The Fellowship of the Ring   \n",
      "12                           The Silence of the Lambs   \n",
      "13                                              Se7en   \n",
      "14                                     The Green Mile   \n",
      "\n",
      "                     genres                                        description  \n",
      "0                     Drama  Two imprisoned men bond and find redemption th...  \n",
      "1               Crime|Drama  An aging crime boss transfers control to his r...  \n",
      "2        Action|Crime|Drama  Batman faces the Joker, a mastermind plunging ...  \n",
      "3               Crime|Drama  Mobsters, a boxer, and a gangster's wife inter...  \n",
      "4             Drama|Romance  History through the eyes of a kind-hearted man...  \n",
      "5   Action|Adventure|Sci-Fi  A thief steals corporate secrets through dream...  \n",
      "6                     Drama  An office worker and a soap maker start an und...  \n",
      "7             Action|Sci-Fi  A hacker discovers the true nature of reality ...  \n",
      "8    Adventure|Drama|Sci-Fi  Explorers travel through a wormhole to save hu...  \n",
      "9    Action|Adventure|Drama  A Roman general seeks vengeance against a corr...  \n",
      "10            Drama|Romance  A rich girl falls for a poor artist aboard the...  \n",
      "11   Action|Adventure|Drama  A hobbit begins a journey to destroy a powerfu...  \n",
      "12     Crime|Drama|Thriller  An FBI cadet consults a killer to catch anothe...  \n",
      "13      Crime|Drama|Mystery  Two detectives hunt a killer using the seven d...  \n",
      "14      Crime|Drama|Fantasy  Death row guards are changed by a gentle inmat...  \n"
     ]
    }
   ],
   "source": [
    "import pandas as pd\n",
    "\n",
    "# Create a dataset of 50 movies\n",
    "data = {\n",
    "    'title': [\n",
    "        'The Shawshank Redemption', 'The Godfather', 'The Dark Knight', 'Pulp Fiction', 'Forrest Gump',\n",
    "        'Inception', 'Fight Club', 'The Matrix', 'Interstellar', 'Gladiator',\n",
    "        'Titanic', 'The Lord of the Rings: The Fellowship of the Ring', 'The Silence of the Lambs',\n",
    "        'Se7en', 'The Green Mile', 'Saving Private Ryan', 'Schindler\\'s List', 'Braveheart', 'The Lion King',\n",
    "        'Avengers: Endgame', 'Joker', 'Toy Story', 'The Social Network', 'Deadpool', 'Black Panther',\n",
    "        'Iron Man', 'Doctor Strange', 'Coco', 'Finding Nemo', 'Inside Out', 'Up', 'Frozen', 'The Incredibles',\n",
    "        'Zootopia', 'Moana', 'Ratatouille', 'The Avengers', 'Guardians of the Galaxy', 'Spider-Man: Homecoming',\n",
    "        'Logan', 'Wonder Woman', 'The Prestige', 'Django Unchained', 'Whiplash', 'La La Land', 'Parasite',\n",
    "        '1917', 'The Revenant', 'Tenet'\n",
    "    ],\n",
    "    'genres': [\n",
    "        'Drama', 'Crime|Drama', 'Action|Crime|Drama', 'Crime|Drama', 'Drama|Romance',\n",
    "        'Action|Adventure|Sci-Fi', 'Drama', 'Action|Sci-Fi', 'Adventure|Drama|Sci-Fi', 'Action|Adventure|Drama',\n",
    "        'Drama|Romance', 'Action|Adventure|Drama', 'Crime|Drama|Thriller', 'Crime|Drama|Mystery',\n",
    "        'Crime|Drama|Fantasy', 'Drama|War', 'Biography|Drama|History', 'Biography|Drama|History',\n",
    "        'Animation|Adventure|Drama', 'Action|Adventure|Drama', 'Crime|Drama|Thriller', 'Animation|Adventure|Comedy',\n",
    "        'Biography|Drama', 'Action|Comedy', 'Action|Adventure|Sci-Fi', 'Action|Adventure|Sci-Fi',\n",
    "        'Action|Adventure|Fantasy', 'Animation|Adventure|Family', 'Animation|Adventure|Comedy',\n",
    "        'Animation|Adventure|Comedy', 'Animation|Adventure|Comedy', 'Animation|Adventure|Comedy',\n",
    "        'Animation|Action|Adventure', 'Animation|Adventure|Comedy', 'Animation|Adventure|Comedy',\n",
    "        'Animation|Comedy|Family', 'Action|Adventure|Sci-Fi', 'Action|Adventure|Comedy',\n",
    "        'Action|Adventure|Sci-Fi', 'Action|Drama|Sci-Fi', 'Action|Adventure|Fantasy', 'Drama|Mystery|Sci-Fi',\n",
    "        'Drama|Western', 'Drama|Music', 'Comedy|Drama|Music', 'Drama|Thriller', 'Drama|War',\n",
    "        'Action|Adventure|Drama', 'Action|Sci-Fi'\n",
    "    ],\n",
    "    'description': [\n",
    "        'Two imprisoned men bond and find redemption through acts of decency.',\n",
    "        'An aging crime boss transfers control to his reluctant son.',\n",
    "        'Batman faces the Joker, a mastermind plunging Gotham into chaos.',\n",
    "        'Mobsters, a boxer, and a gangster\\'s wife intersect in tales of crime.',\n",
    "        'History through the eyes of a kind-hearted man with a low IQ.',\n",
    "        'A thief steals corporate secrets through dream-sharing technology.',\n",
    "        'An office worker and a soap maker start an underground fight club.',\n",
    "        'A hacker discovers the true nature of reality and his role in it.',\n",
    "        'Explorers travel through a wormhole to save humanity.',\n",
    "        'A Roman general seeks vengeance against a corrupt emperor.',\n",
    "        'A rich girl falls for a poor artist aboard the Titanic.',\n",
    "        'A hobbit begins a journey to destroy a powerful ring.',\n",
    "        'An FBI cadet consults a killer to catch another serial murderer.',\n",
    "        'Two detectives hunt a killer using the seven deadly sins.',\n",
    "        'Death row guards are changed by a gentle inmate\\'s powers.',\n",
    "        'Soldiers go behind enemy lines to save a paratrooper.',\n",
    "        'A man saves Jews by employing them during the Holocaust.',\n",
    "        'A Scottish warrior leads a rebellion against English rule.',\n",
    "        'A lion prince must embrace his destiny to lead the kingdom.',\n",
    "        'The Avengers try to reverse Thanos\\' destruction.',\n",
    "        'A comedian descends into madness and becomes the Joker.',\n",
    "        'Toys deal with jealousy and identity when a new toy arrives.',\n",
    "        'The rise of Facebook and the lawsuits that followed.',\n",
    "        'A mercenary becomes Deadpool after a rogue experiment.',\n",
    "        'T\\'Challa returns to Wakanda to become king.',\n",
    "        'An engineer builds a suit to escape captivity and become Iron Man.',\n",
    "        'A surgeon learns mystical arts after a career-ending accident.',\n",
    "        'A boy travels to the Land of the Dead to learn about family.',\n",
    "        'A clownfish searches for his missing son across the ocean.',\n",
    "        'A girl\\'s emotions struggle with a life-changing move.',\n",
    "        'An old man flies his house to South America with a boy scout.',\n",
    "        'A queen must learn to control her icy powers.',\n",
    "        'Superhero family returns to save the world again.',\n",
    "        'A bunny cop and fox con artist uncover a conspiracy.',\n",
    "        'A Polynesian girl sails to save her island.',\n",
    "        'A rat becomes a chef in a top French restaurant.',\n",
    "        'Earth\\'s mightiest heroes unite to stop Loki\\'s invasion.',\n",
    "        'Criminals team up to stop a cosmic villain.',\n",
    "        'A teenage Spider-Man tries to balance heroism and school.',\n",
    "        'An older Wolverine protects a young mutant.',\n",
    "        'An Amazon warrior discovers her powers during a world war.',\n",
    "        'Two magicians compete to create the ultimate illusion.',\n",
    "        'A freed slave sets out to rescue his wife.',\n",
    "        'A drummer faces abuse in pursuit of greatness.',\n",
    "        'An actress and pianist fall in love in L.A.',\n",
    "        'A poor family infiltrates a rich household.',\n",
    "        'Two soldiers race to stop a deadly attack during WWI.',\n",
    "        'A frontiersman fights for survival after a bear attack.',\n",
    "        'A secret agent manipulates time to stop a global threat.'\n",
    "    ]\n",
    "}\n",
    "\n",
    "# Convert to DataFrame\n",
    "df = pd.DataFrame(data)\n",
    "\n",
    "# Display the first few rows\n",
    "print(df.head(15))\n",
    "\n",
    "# Optional: Save to CSV\n",
    "df.to_csv(\"movies_50_dataset.csv\", index=False)\n"
   ]
  },
  {
   "cell_type": "code",
   "execution_count": 6,
   "id": "7eca552f-bc20-4241-b368-7b392a43737e",
   "metadata": {},
   "outputs": [
    {
     "data": {
      "text/html": [
       "<div>\n",
       "<style scoped>\n",
       "    .dataframe tbody tr th:only-of-type {\n",
       "        vertical-align: middle;\n",
       "    }\n",
       "\n",
       "    .dataframe tbody tr th {\n",
       "        vertical-align: top;\n",
       "    }\n",
       "\n",
       "    .dataframe thead th {\n",
       "        text-align: right;\n",
       "    }\n",
       "</style>\n",
       "<table border=\"1\" class=\"dataframe\">\n",
       "  <thead>\n",
       "    <tr style=\"text-align: right;\">\n",
       "      <th></th>\n",
       "      <th>title</th>\n",
       "      <th>genres</th>\n",
       "      <th>description</th>\n",
       "      <th>content</th>\n",
       "    </tr>\n",
       "  </thead>\n",
       "  <tbody>\n",
       "    <tr>\n",
       "      <th>0</th>\n",
       "      <td>The Shawshank Redemption</td>\n",
       "      <td>Drama</td>\n",
       "      <td>Two imprisoned men bond and find redemption th...</td>\n",
       "      <td>Drama Two imprisoned men bond and find redempt...</td>\n",
       "    </tr>\n",
       "    <tr>\n",
       "      <th>1</th>\n",
       "      <td>The Godfather</td>\n",
       "      <td>Crime|Drama</td>\n",
       "      <td>An aging crime boss transfers control to his r...</td>\n",
       "      <td>Crime|Drama An aging crime boss transfers cont...</td>\n",
       "    </tr>\n",
       "    <tr>\n",
       "      <th>2</th>\n",
       "      <td>The Dark Knight</td>\n",
       "      <td>Action|Crime|Drama</td>\n",
       "      <td>Batman faces the Joker, a mastermind plunging ...</td>\n",
       "      <td>Action|Crime|Drama Batman faces the Joker, a m...</td>\n",
       "    </tr>\n",
       "    <tr>\n",
       "      <th>3</th>\n",
       "      <td>Pulp Fiction</td>\n",
       "      <td>Crime|Drama</td>\n",
       "      <td>Mobsters, a boxer, and a gangster's wife inter...</td>\n",
       "      <td>Crime|Drama Mobsters, a boxer, and a gangster'...</td>\n",
       "    </tr>\n",
       "    <tr>\n",
       "      <th>4</th>\n",
       "      <td>Forrest Gump</td>\n",
       "      <td>Drama|Romance</td>\n",
       "      <td>History through the eyes of a kind-hearted man...</td>\n",
       "      <td>Drama|Romance History through the eyes of a ki...</td>\n",
       "    </tr>\n",
       "  </tbody>\n",
       "</table>\n",
       "</div>"
      ],
      "text/plain": [
       "                      title              genres  \\\n",
       "0  The Shawshank Redemption               Drama   \n",
       "1             The Godfather         Crime|Drama   \n",
       "2           The Dark Knight  Action|Crime|Drama   \n",
       "3              Pulp Fiction         Crime|Drama   \n",
       "4              Forrest Gump       Drama|Romance   \n",
       "\n",
       "                                         description  \\\n",
       "0  Two imprisoned men bond and find redemption th...   \n",
       "1  An aging crime boss transfers control to his r...   \n",
       "2  Batman faces the Joker, a mastermind plunging ...   \n",
       "3  Mobsters, a boxer, and a gangster's wife inter...   \n",
       "4  History through the eyes of a kind-hearted man...   \n",
       "\n",
       "                                             content  \n",
       "0  Drama Two imprisoned men bond and find redempt...  \n",
       "1  Crime|Drama An aging crime boss transfers cont...  \n",
       "2  Action|Crime|Drama Batman faces the Joker, a m...  \n",
       "3  Crime|Drama Mobsters, a boxer, and a gangster'...  \n",
       "4  Drama|Romance History through the eyes of a ki...  "
      ]
     },
     "execution_count": 6,
     "metadata": {},
     "output_type": "execute_result"
    }
   ],
   "source": [
    "# Combine genres and description into one content field\n",
    "df[\"content\"] = df[\"genres\"].fillna('') + \" \" + df[\"description\"].fillna('')\n",
    "df.head()\n"
   ]
  },
  {
   "cell_type": "code",
   "execution_count": 8,
   "id": "f0e06d2e-5dc1-47a9-843d-b79f89727683",
   "metadata": {},
   "outputs": [],
   "source": [
    "from sklearn.feature_extraction.text import TfidfVectorizer\n",
    "\n",
    "# Initialize the vectorizer\n",
    "vectorizer = TfidfVectorizer(stop_words=\"english\")\n",
    "\n",
    "# Convert content into TF-IDF vectors\n",
    "tfidf_matrix = vectorizer.fit_transform(df[\"content\"])\n"
   ]
  },
  {
   "cell_type": "code",
   "execution_count": 9,
   "id": "bfe95b5e-9017-4d14-8ee5-b3f125be8806",
   "metadata": {},
   "outputs": [],
   "source": [
    "from sklearn.metrics.pairwise import cosine_similarity\n",
    "\n",
    "# Compute cosine similarity\n",
    "cosine_sim = cosine_similarity(tfidf_matrix)\n"
   ]
  },
  {
   "cell_type": "code",
   "execution_count": 10,
   "id": "ece08b42-20fe-4b9f-a469-e0d45ef8b8e7",
   "metadata": {},
   "outputs": [],
   "source": [
    "def recommend_movie(title):\n",
    "    if title not in df['title'].values:\n",
    "        print(f\"Movie '{title}' not found.\")\n",
    "        return\n",
    "    \n",
    "    index = df[df['title'] == title].index[0]\n",
    "    similarity_scores = list(enumerate(cosine_sim[index]))\n",
    "    similarity_scores = sorted(similarity_scores, key=lambda x: x[1], reverse=True)\n",
    "    \n",
    "    # Skip the first one (it’s the movie itself)\n",
    "    top_5 = similarity_scores[1:6]\n",
    "    \n",
    "    print(f\"\\n🎬 Because you liked '{title}', you may also like:\")\n",
    "    for i in top_5:\n",
    "        print(\" -\", df.iloc[i[0]][\"title\"])\n"
   ]
  },
  {
   "cell_type": "code",
   "execution_count": 11,
   "id": "57f046f5-6dd5-4e94-b528-f1e60e796574",
   "metadata": {},
   "outputs": [
    {
     "name": "stdout",
     "output_type": "stream",
     "text": [
      "\n",
      "🎬 Because you liked 'Fight Club', you may also like:\n",
      " - The Social Network\n",
      " - Parasite\n",
      " - Joker\n",
      " - Saving Private Ryan\n",
      " - La La Land\n"
     ]
    }
   ],
   "source": [
    "recommend_movie(\"Fight Club\")"
   ]
  },
  {
   "cell_type": "code",
   "execution_count": 12,
   "id": "287204cd-1f08-4098-a1fb-54500572b301",
   "metadata": {},
   "outputs": [
    {
     "name": "stdout",
     "output_type": "stream",
     "text": [
      "\n",
      "🎬 Because you liked 'Tenet', you may also like:\n",
      " - The Avengers\n",
      " - Black Panther\n",
      " - Logan\n",
      " - Guardians of the Galaxy\n",
      " - The Matrix\n"
     ]
    }
   ],
   "source": [
    "recommend_movie(\"Tenet\")"
   ]
  },
  {
   "cell_type": "code",
   "execution_count": 13,
   "id": "675ad7b4-f880-4ad4-afd6-e88f7f5c2247",
   "metadata": {},
   "outputs": [
    {
     "data": {
      "image/png": "[encoded data removed]",
      "text/plain": [
       "<Figure size 640x480 with 1 Axes>"
      ]
     },
     "metadata": {},
     "output_type": "display_data"
    }
   ],
   "source": [
    "import matplotlib.pyplot as plt\n",
    "\n",
    "# Count all genres\n",
    "genre_counts = df[\"genres\"].str.split('|').explode().value_counts()\n",
    "\n",
    "# Plot\n",
    "genre_counts.plot(kind=\"bar\", color=\"skyblue\", title=\"Movie Genre Distribution\")\n",
    "plt.xlabel(\"Genre\")\n",
    "plt.ylabel(\"Count\")\n",
    "plt.tight_layout()\n",
    "plt.show()"
   ]
  },
  {
   "cell_type": "code",
   "execution_count": null,
   "id": "f06b2cab-ba05-409d-a4ea-8c8a0b79785d",
   "metadata": {},
   "outputs": [],
   "source": []
  }
 ],
 "metadata": {
  "kernelspec": {
   "display_name": "Python 3 (ipykernel)",
   "language": "python",
   "name": "python3"
  },
  "language_info": {
   "codemirror_mode": {
    "name": "ipython",
    "version": 3
   },
   "file_extension": ".py",
   "mimetype": "text/x-python",
   "name": "python",
   "nbconvert_exporter": "python",
   "pygments_lexer": "ipython3",
   "version": "3.12.3"
  }
 },
 "nbformat": 4,
 "nbformat_minor": 5
}
